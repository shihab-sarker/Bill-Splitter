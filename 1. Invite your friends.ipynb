{
 "cells": [
  {
   "cell_type": "markdown",
   "metadata": {},
   "source": [
    "# Description\n",
    "You have planned a dinner with your friends today. It's the right time to add them to your program. You need to be sure how many friends are joining you for dinner including you.\n",
    "\n",
    "The idea is to take names from user input. Store them in a dictionary.\n",
    "\n",
    "For example, if five friends are joining including you, you need to add five people to the dictionary so that you can access/update the corresponding bill value later.\n",
    "\n",
    "# Objectives\n",
    "In this stage your program should perform the following steps:\n",
    "\n",
    "Take user input — how many people want to join, including the user;\n",
    "In case of an invalid number of people (zero or negative), \"No one is joining for the party\" is expected as an output;\n",
    "Otherwise, take the friends' names as input, iteratively;\n",
    "Store them in a dictionary initialized with zeros;\n",
    "Print out the dictionary.\n",
    "To communicate with the user, you can use the prompts specified in the examples.\n",
    "\n",
    "# Examples\n",
    "The greater-than symbol followed by a space (> ) represents the user input. Note that it's not part of the input.\n",
    "\n",
    "Example 1: Valid input\n",
    "```\n",
    "Enter the number of friends joining (including you):\n",
    "> 5\n",
    "\n",
    "Enter the name of every friend (including you), each on a new line:\n",
    "> Marc\n",
    "> Jem\n",
    "> Monica\n",
    "> Anna\n",
    "> Jason\n",
    "\n",
    "{'Marc': 0, 'Jem': 0, 'Monica': 0, 'Anna': 0, 'Jason': 0}\n",
    "```\n",
    "Example 2: Invalid input\n",
    "```\n",
    "Enter the number of friends joining (including you):\n",
    "> 0\n",
    "\n",
    "No one is joining for the party\n",
    "```\n",
    "Example 3: Invalid input\n",
    "```\n",
    "Enter the number of friends joining (including you):\n",
    "> -1\n",
    "```\n",
    "No one is joining for the party"
   ]
  },
  {
   "cell_type": "code",
   "metadata": {
    "jupyter": {
     "is_executing": true
    }
   },
   "source": [
    "# Solution\n",
    "def main():\n",
    "    num_friends = int(input(\"Enter the number of friends joining (including you):\\n\"))\n",
    "    \n",
    "    if num_friends <= 0:\n",
    "        print(\"No one is joining for the party\")\n",
    "    else:\n",
    "        friends_dict = {}\n",
    "        print(\"Enter the name of every friend (including you), each on a new line:\")\n",
    "        for _ in range(num_friends):\n",
    "            name = input(\"> \")\n",
    "            friends_dict[name] = 0\n",
    "        \n",
    "        print(friends_dict)\n",
    "\n",
    "if __name__ == \"__main__\":\n",
    "    main()"
   ],
   "outputs": [],
   "execution_count": null
  },
  {
   "metadata": {},
   "cell_type": "code",
   "outputs": [],
   "execution_count": null,
   "source": ""
  }
 ],
 "metadata": {
  "kernelspec": {
   "display_name": "base",
   "language": "python",
   "name": "python3"
  },
  "language_info": {
   "codemirror_mode": {
    "name": "ipython",
    "version": 3
   },
   "file_extension": ".py",
   "mimetype": "text/x-python",
   "name": "python",
   "nbconvert_exporter": "python",
   "pygments_lexer": "ipython3",
   "version": "3.12.4"
  }
 },
 "nbformat": 4,
 "nbformat_minor": 2
}
